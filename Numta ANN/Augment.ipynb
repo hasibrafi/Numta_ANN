{
 "cells": [
  {
   "cell_type": "code",
   "execution_count": 5,
   "metadata": {
    "collapsed": true
   },
   "outputs": [],
   "source": [
    "import os \n",
    "import cv2\n",
    "import numpy as np\n",
    "from PIL import Image\n"
   ]
  },
  {
   "cell_type": "code",
   "execution_count": 6,
   "metadata": {
    "collapsed": true
   },
   "outputs": [],
   "source": [
    "one = os.listdir('./1/')\n",
    "two = os.listdir('./2/')\n",
    "three = os.listdir('./3/')"
   ]
  },
  {
   "cell_type": "code",
   "execution_count": 7,
   "metadata": {},
   "outputs": [
    {
     "name": "stdout",
     "output_type": "stream",
     "text": [
      "['b00011.png', 'b00020.png', 'b00037.png', 'b00056.png', 'b00072.png', 'b00107.png', 'b00109.png', 'b00125.png', 'b00135.png', 'b00148.png', 'b00157.png', 'b00172.png', 'b00191.png', 'b00200.png', 'b00220.png', 'b00245.png', 'b00277.png']\n",
      "['b00003.png', 'b00026.png', 'b00042.png', 'b00045.png', 'b00064.png', 'b00067.png', 'b00085.png', 'b00090.png', 'b00100.png', 'b00113.png', 'b00146.png', 'b00185.png', 'b00204.png', 'b00210.png', 'b00236.png', 'b00256.png']\n",
      "['b00021.png', 'b00032.png', 'b00034.png', 'b00040.png', 'b00041.png', 'b00058.png', 'b00060.png', 'b00061.png', 'b00069.png', 'b00103.png', 'b00121.png', 'b00129.png', 'b00150.png', 'b00159.png', 'b00161.png', 'b00179.png', 'b00180.png']\n"
     ]
    }
   ],
   "source": [
    "print(one)\n",
    "print(two)\n",
    "print(three)"
   ]
  },
  {
   "cell_type": "code",
   "execution_count": 8,
   "metadata": {},
   "outputs": [],
   "source": [
    "os.chdir('./1/')"
   ]
  },
  {
   "cell_type": "code",
   "execution_count": 9,
   "metadata": {
    "collapsed": true
   },
   "outputs": [],
   "source": [
    "c = 1"
   ]
  },
  {
   "cell_type": "code",
   "execution_count": 10,
   "metadata": {},
   "outputs": [],
   "source": [
    "for i in one:\n",
    "    img = cv2.imread(i)\n",
    "    blur = cv2.blur(img,(5,5))\n",
    "    cv2.imwrite('blurred_'+str(c)+'.jpg',blur)\n",
    "    c+=1\n",
    "    #print(blur.shape)"
   ]
  },
  {
   "cell_type": "code",
   "execution_count": 11,
   "metadata": {
    "collapsed": true
   },
   "outputs": [],
   "source": [
    "one = os.listdir()"
   ]
  },
  {
   "cell_type": "code",
   "execution_count": 12,
   "metadata": {
    "collapsed": true
   },
   "outputs": [],
   "source": [
    "c =1"
   ]
  },
  {
   "cell_type": "code",
   "execution_count": 13,
   "metadata": {},
   "outputs": [
    {
     "name": "stdout",
     "output_type": "stream",
     "text": [
      "['b00011.png', 'b00020.png', 'b00037.png', 'b00056.png', 'b00072.png', 'b00107.png', 'b00109.png', 'b00125.png', 'b00135.png', 'b00148.png', 'b00157.png', 'b00172.png', 'b00191.png', 'b00200.png', 'b00220.png', 'b00245.png', 'b00277.png', 'blurred_1.jpg', 'blurred_10.jpg', 'blurred_11.jpg', 'blurred_12.jpg', 'blurred_13.jpg', 'blurred_14.jpg', 'blurred_15.jpg', 'blurred_16.jpg', 'blurred_17.jpg', 'blurred_2.jpg', 'blurred_3.jpg', 'blurred_4.jpg', 'blurred_5.jpg', 'blurred_6.jpg', 'blurred_7.jpg', 'blurred_8.jpg', 'blurred_9.jpg']\n"
     ]
    }
   ],
   "source": [
    "print(one)"
   ]
  },
  {
   "cell_type": "code",
   "execution_count": 14,
   "metadata": {
    "collapsed": true
   },
   "outputs": [],
   "source": [
    "for i in one:\n",
    "    img = Image.open(i)\n",
    "    img = img.rotate(10)\n",
    "    img.save('rotated_10'+str(c)+'.jpg')\n",
    "    c+=1"
   ]
  },
  {
   "cell_type": "code",
   "execution_count": 15,
   "metadata": {
    "collapsed": true
   },
   "outputs": [],
   "source": [
    "os.chdir('../')"
   ]
  },
  {
   "cell_type": "code",
   "execution_count": 16,
   "metadata": {
    "collapsed": true
   },
   "outputs": [],
   "source": [
    "os.chdir('./2/')"
   ]
  },
  {
   "cell_type": "code",
   "execution_count": 17,
   "metadata": {
    "collapsed": true
   },
   "outputs": [],
   "source": [
    "for i in two:\n",
    "    img = cv2.imread(i)\n",
    "    blur = cv2.blur(img,(5,5))\n",
    "    cv2.imwrite('blurred_'+str(c)+'.jpg',blur)\n",
    "    c+=1"
   ]
  },
  {
   "cell_type": "code",
   "execution_count": 18,
   "metadata": {
    "collapsed": true
   },
   "outputs": [],
   "source": [
    "two = os.listdir()"
   ]
  },
  {
   "cell_type": "code",
   "execution_count": 19,
   "metadata": {
    "collapsed": true
   },
   "outputs": [],
   "source": [
    "c = 1"
   ]
  },
  {
   "cell_type": "code",
   "execution_count": 20,
   "metadata": {},
   "outputs": [
    {
     "name": "stdout",
     "output_type": "stream",
     "text": [
      "['b00003.png', 'b00026.png', 'b00042.png', 'b00045.png', 'b00064.png', 'b00067.png', 'b00085.png', 'b00090.png', 'b00100.png', 'b00113.png', 'b00146.png', 'b00185.png', 'b00204.png', 'b00210.png', 'b00236.png', 'b00256.png', 'blurred_35.jpg', 'blurred_36.jpg', 'blurred_37.jpg', 'blurred_38.jpg', 'blurred_39.jpg', 'blurred_40.jpg', 'blurred_41.jpg', 'blurred_42.jpg', 'blurred_43.jpg', 'blurred_44.jpg', 'blurred_45.jpg', 'blurred_46.jpg', 'blurred_47.jpg', 'blurred_48.jpg', 'blurred_49.jpg', 'blurred_50.jpg']\n"
     ]
    }
   ],
   "source": [
    "print(two)"
   ]
  },
  {
   "cell_type": "code",
   "execution_count": 21,
   "metadata": {
    "collapsed": true
   },
   "outputs": [],
   "source": [
    "for i in two:\n",
    "    img = Image.open(i)\n",
    "    img = img.rotate(10)\n",
    "    img.save('rotated_10'+str(c)+'.jpg')\n",
    "    c+=1"
   ]
  },
  {
   "cell_type": "code",
   "execution_count": 22,
   "metadata": {
    "collapsed": true
   },
   "outputs": [],
   "source": [
    "os.chdir('../')"
   ]
  },
  {
   "cell_type": "code",
   "execution_count": 23,
   "metadata": {
    "collapsed": true
   },
   "outputs": [],
   "source": [
    "os.chdir('./3/')"
   ]
  },
  {
   "cell_type": "code",
   "execution_count": 24,
   "metadata": {
    "collapsed": true
   },
   "outputs": [],
   "source": [
    "for i in three:\n",
    "    img = cv2.imread(i)\n",
    "    blur = cv2.blur(img,(5,5))\n",
    "    cv2.imwrite('blurred_'+str(c)+'.jpg',blur)\n",
    "    c+=1"
   ]
  },
  {
   "cell_type": "code",
   "execution_count": 25,
   "metadata": {
    "collapsed": true
   },
   "outputs": [],
   "source": [
    "three = os.listdir()"
   ]
  },
  {
   "cell_type": "code",
   "execution_count": 26,
   "metadata": {
    "collapsed": true
   },
   "outputs": [],
   "source": [
    "c = 1"
   ]
  },
  {
   "cell_type": "code",
   "execution_count": 27,
   "metadata": {},
   "outputs": [
    {
     "name": "stdout",
     "output_type": "stream",
     "text": [
      "['b00021.png', 'b00032.png', 'b00034.png', 'b00040.png', 'b00041.png', 'b00058.png', 'b00060.png', 'b00061.png', 'b00069.png', 'b00103.png', 'b00121.png', 'b00129.png', 'b00150.png', 'b00159.png', 'b00161.png', 'b00179.png', 'b00180.png', 'blurred_33.jpg', 'blurred_34.jpg', 'blurred_35.jpg', 'blurred_36.jpg', 'blurred_37.jpg', 'blurred_38.jpg', 'blurred_39.jpg', 'blurred_40.jpg', 'blurred_41.jpg', 'blurred_42.jpg', 'blurred_43.jpg', 'blurred_44.jpg', 'blurred_45.jpg', 'blurred_46.jpg', 'blurred_47.jpg', 'blurred_48.jpg', 'blurred_49.jpg']\n"
     ]
    }
   ],
   "source": [
    "print(three)"
   ]
  },
  {
   "cell_type": "code",
   "execution_count": 28,
   "metadata": {
    "collapsed": true
   },
   "outputs": [],
   "source": [
    "for i in three:\n",
    "    img = Image.open(i)\n",
    "    img = img.rotate(10)\n",
    "    img.save('rotated_10'+str(c)+'.jpg')\n",
    "    c+=1"
   ]
  },
  {
   "cell_type": "code",
   "execution_count": null,
   "metadata": {
    "collapsed": true
   },
   "outputs": [],
   "source": []
  }
 ],
 "metadata": {
  "kernelspec": {
   "display_name": "Python 3",
   "language": "python",
   "name": "python3"
  },
  "language_info": {
   "codemirror_mode": {
    "name": "ipython",
    "version": 3
   },
   "file_extension": ".py",
   "mimetype": "text/x-python",
   "name": "python",
   "nbconvert_exporter": "python",
   "pygments_lexer": "ipython3",
   "version": "3.6.2"
  }
 },
 "nbformat": 4,
 "nbformat_minor": 2
}
